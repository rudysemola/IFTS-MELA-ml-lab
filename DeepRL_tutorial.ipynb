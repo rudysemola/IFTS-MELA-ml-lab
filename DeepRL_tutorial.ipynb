{
  "nbformat": 4,
  "nbformat_minor": 0,
  "metadata": {
    "colab": {
      "provenance": [],
      "collapsed_sections": [],
      "toc_visible": true,
      "include_colab_link": true
    },
    "kernelspec": {
      "name": "python3",
      "display_name": "Python 3"
    },
    "accelerator": "GPU"
  },
  "cells": [
    {
      "cell_type": "markdown",
      "metadata": {
        "id": "view-in-github",
        "colab_type": "text"
      },
      "source": [
        "<a href=\"https://colab.research.google.com/github/rudysemola/IFTS-MELA-ml-lab/blob/main/DeepRL_tutorial.ipynb\" target=\"_parent\"><img src=\"https://colab.research.google.com/assets/colab-badge.svg\" alt=\"Open In Colab\"/></a>"
      ]
    },
    {
      "cell_type": "markdown",
      "metadata": {
        "id": "hyyN-2qyK_T2"
      },
      "source": [
        "# Deep RL usando Stable Baselines e OpenAI Gym \n",
        "\n",
        "In questo notebook imparerai le basi pratiche sul deep RL usando la libreria stable baselines (RL) e OpenAI Gym*. \n",
        "In particolare, scelto l'ambiente su cui opera l'agente e la strategia deep RL vedremo come: \n",
        "- Crearlo con Stable Baselines\n",
        "- Addestrarlo \n",
        "- Valutarlo\n",
        "\n",
        "*Open AI gym for RL environments and tasks"
      ]
    },
    {
      "cell_type": "markdown",
      "source": [
        "## Installazione delle dipendenze e Stable Baseline\n",
        "```\n",
        "pip install stable-baselines3[extra]\n",
        "```\n",
        "\n",
        "Vediamolo in pratica"
      ],
      "metadata": {
        "id": "ASuWWA84zLdU"
      }
    },
    {
      "cell_type": "code",
      "metadata": {
        "id": "gWskDE2c9WoN"
      },
      "source": [
        "!apt-get install ffmpeg freeglut3-dev xvfb  # For visualization\n",
        "!pip install stable-baselines3[extra]\n",
        "!pip install pyglet==1.4"
      ],
      "execution_count": null,
      "outputs": []
    },
    {
      "cell_type": "code",
      "source": [
        "import stable_baselines3\n",
        "stable_baselines3.__version__"
      ],
      "metadata": {
        "colab": {
          "base_uri": "https://localhost:8080/",
          "height": 36
        },
        "id": "rMQ1PIrI0-J1",
        "outputId": "b0317c4c-3034-476c-ef42-32f1be687421"
      },
      "execution_count": null,
      "outputs": [
        {
          "output_type": "execute_result",
          "data": {
            "text/plain": [
              "'1.6.2'"
            ],
            "application/vnd.google.colaboratory.intrinsic+json": {
              "type": "string"
            }
          },
          "metadata": {},
          "execution_count": 2
        }
      ]
    },
    {
      "cell_type": "markdown",
      "metadata": {
        "id": "FtY8FhliLsGm"
      },
      "source": [
        "## Importiamo!"
      ]
    },
    {
      "cell_type": "markdown",
      "metadata": {
        "id": "gcX8hEcaUpR0"
      },
      "source": [
        "Stable-Baselines funziona su ambienti che seguono l'interfaccia OpenAI [gym](https://www.gymlibrary.dev/). \n",
        "\n",
        "per questo motivo "
      ]
    },
    {
      "cell_type": "code",
      "metadata": {
        "id": "BIedd7Pz9sOs"
      },
      "source": [
        "import gym\n",
        "import numpy as np"
      ],
      "execution_count": null,
      "outputs": []
    },
    {
      "cell_type": "markdown",
      "metadata": {
        "id": "Ae32CtgzTG3R"
      },
      "source": [
        "Adesso si importa il modello deep RL.\n",
        "Scegliamo un modello model-free: Proximal Policy Optimization ([PPO](https://openai.com/blog/openai-baselines-ppo/)).\n"
      ]
    },
    {
      "cell_type": "code",
      "metadata": {
        "id": "R7tKaBFrTR0a"
      },
      "source": [
        "from stable_baselines3 import PPO"
      ],
      "execution_count": null,
      "outputs": []
    },
    {
      "cell_type": "markdown",
      "metadata": {
        "id": "-0_8OQbOTTNT"
      },
      "source": [
        "La prossima cosa da importare è la classe di policy che verrà usata per creare le reti (per le funzione policy e funzione value). \n",
        "\n",
        "Nota che tali funzioni qui vengono approssimate attraverso l'uso delle reti neurali (MLP=Multi-Layer-Perceptron)"
      ]
    },
    {
      "cell_type": "code",
      "metadata": {
        "id": "ROUJr675TT01"
      },
      "source": [
        "from stable_baselines3.ppo.policies import MlpPolicy"
      ],
      "execution_count": null,
      "outputs": []
    },
    {
      "cell_type": "markdown",
      "source": [
        "**NOTE**\n",
        "\n",
        "[Proximal Policy Optimization](https://stable-baselines.readthedocs.io/en/master/modules/ppo2.html) è un metodo Actor-Critic: utilizza una value function per migliorare la discesa del gradiente della policy.\n",
        "\n",
        "Combina l'idea di [A2C](https://stable-baselines.readthedocs.io/en/master/modules/a2c.html) e [TRPO](https://stable-baselines.readthedocs.io/en/master/modules/trpo.html)\n",
        "\n",
        "PPO è un algoritmo on-policy, le traiettorie utilizzate per aggiornare le reti devono essere raccolte utilizzando la politica più recente.\n",
        "Di solito è meno sample efficient rispetto alle strategie off-policy come [DQN](https://stable-baselines.readthedocs.io/en/master/modules/dqn.html), [SAC](https://stable-baselines.readthedocs.io/en/master/modules/sac.html) o [TD3](https://stable-baselines.readthedocs.io/en/master/modules/td3.html).\n",
        "Tuttavia è molto più veloce nell'addestramento.\n",
        "\n",
        "PPO è diventato l'algoritmo di apprendimento per rinforzo predefinito in OpenAI e Stable Baseline grazie alla sua facilità d'uso e alle buone prestazioni.\n"
      ],
      "metadata": {
        "id": "qPK07nJq9mKE"
      }
    },
    {
      "cell_type": "markdown",
      "metadata": {
        "id": "RapkYvTXL7Cd"
      },
      "source": [
        "## Creazione del Gym env e istanziare agente\n",
        "\n",
        "Per questo esempio utilizzeremo l'ambiente *CartPole*, un classico problema di controllo.\n",
        "\n",
        "Molto spesso i problemi di RL partono da una definizione narrativa e meno formale di quella vista a lezione. \n",
        "Ecco un esempio per CartPole a seguire\n",
        "\n",
        "\"Un palo è attaccato da un giunto non azionato a un carrello, che si muove lungo un binario senza attrito. Il sistema è controllato applicando una forza di +1 o -1 al carrello. Il pendolo inizia in posizione verticale e l'obiettivo è impedirne la caduta. Viene fornita una ricompensa di +1 per ogni passo in cui il palo rimane in piedi.\"\n",
        "\n",
        "Cartpole environment: [https://gym.openai.com/envs/CartPole-v1/](https://gym.openai.com/envs/CartPole-v1/)\n",
        "\n",
        "![Cartpole](https://cdn-images-1.medium.com/max/1143/1*h4WTQNVIsvMXJTCpXm_TAw.gif)\n",
        "\n",
        "\n",
        "**Scelte di design**\n",
        "\n",
        "Abbiamo scelto *MlpPolicy* perché l'input di CartPole è un vettore di feature, qui non abbiamo immagini o serie temporali!\n",
        "\n",
        "Il tipo di azione da utilizzare (discreta/continua) verrà automaticamente dedotto dallo spazio delle azioni dell'ambientale (environment action space).\n"
      ]
    },
    {
      "cell_type": "code",
      "metadata": {
        "id": "pUWGZp3i9wyf",
        "colab": {
          "base_uri": "https://localhost:8080/"
        },
        "outputId": "be562264-7bc9-427a-8e58-c08e09f144a3"
      },
      "source": [
        "env = gym.make('CartPole-v1')\n",
        "model = PPO(MlpPolicy, env, verbose=1)"
      ],
      "execution_count": null,
      "outputs": [
        {
          "output_type": "stream",
          "name": "stdout",
          "text": [
            "Using cuda device\n",
            "Wrapping the env with a `Monitor` wrapper\n",
            "Wrapping the env in a DummyVecEnv.\n"
          ]
        }
      ]
    },
    {
      "cell_type": "markdown",
      "metadata": {
        "id": "4efFdrQ7MBvl"
      },
      "source": [
        "(PLUS) come funziona una funzione di supporto per valutare l'agente?\n",
        "\n",
        "Ecco esempio:"
      ]
    },
    {
      "cell_type": "code",
      "metadata": {
        "id": "63M8mSKR-6Zt"
      },
      "source": [
        "def evaluate(model, num_episodes=100):\n",
        "    \"\"\"\n",
        "    Evaluate a RL agent\n",
        "    :param model: (BaseRLModel object) the RL Agent\n",
        "    :param num_episodes: (int) number of episodes to evaluate it\n",
        "    :return: (float) Mean reward for the last num_episodes\n",
        "    \"\"\"\n",
        "    # This function will only work for a single Environment\n",
        "    env = model.get_env()\n",
        "    all_episode_rewards = []\n",
        "    for i in range(num_episodes):\n",
        "        episode_rewards = []\n",
        "        done = False\n",
        "        obs = env.reset()\n",
        "        while not done:\n",
        "            # _states are only useful when using LSTM policies\n",
        "            action, _states = model.predict(obs)\n",
        "            # here, action, rewards and dones are arrays\n",
        "            # because we are using vectorized env\n",
        "            obs, reward, done, info = env.step(action)\n",
        "            episode_rewards.append(reward)\n",
        "\n",
        "        all_episode_rewards.append(sum(episode_rewards))\n",
        "\n",
        "    mean_episode_reward = np.mean(all_episode_rewards)\n",
        "    print(\"Mean reward:\", mean_episode_reward, \"Num episodes:\", num_episodes)\n",
        "\n",
        "    return mean_episode_reward"
      ],
      "execution_count": null,
      "outputs": []
    },
    {
      "cell_type": "markdown",
      "metadata": {
        "id": "zjEVOIY8NVeK"
      },
      "source": [
        "Valutiamo l'agente non addestrato (un agente random)."
      ]
    },
    {
      "cell_type": "code",
      "metadata": {
        "id": "s6ZNldIR-fce"
      },
      "source": [
        "from stable_baselines3.common.evaluation import evaluate_policy"
      ],
      "execution_count": null,
      "outputs": []
    },
    {
      "cell_type": "code",
      "metadata": {
        "id": "xDHLMA6NFk95",
        "outputId": "2209f8eb-787c-4ab5-ab0b-13ac3f5c5ecc",
        "colab": {
          "base_uri": "https://localhost:8080/"
        }
      },
      "source": [
        "# Use a separate environement for evaluation\n",
        "eval_env = gym.make('CartPole-v1')\n",
        "\n",
        "# Random Agent, before training\n",
        "mean_reward, std_reward = evaluate_policy(model, eval_env, n_eval_episodes=100)\n",
        "\n",
        "print(f\"mean_reward:{mean_reward:.2f} +/- {std_reward:.2f}\")"
      ],
      "execution_count": null,
      "outputs": [
        {
          "output_type": "stream",
          "name": "stderr",
          "text": [
            "/usr/local/lib/python3.7/dist-packages/stable_baselines3/common/evaluation.py:69: UserWarning: Evaluation environment is not wrapped with a ``Monitor`` wrapper. This may result in reporting modified episode lengths and rewards, if other wrappers happen to modify these. Consider wrapping environment first with ``Monitor`` wrapper.\n",
            "  UserWarning,\n"
          ]
        },
        {
          "output_type": "stream",
          "name": "stdout",
          "text": [
            "mean_reward:19.13 +/- 8.26\n"
          ]
        }
      ]
    },
    {
      "cell_type": "markdown",
      "source": [
        "Una volta addestrato, riusciremo a fare di meglio?"
      ],
      "metadata": {
        "id": "2QxeRaBnNz_9"
      }
    },
    {
      "cell_type": "markdown",
      "metadata": {
        "id": "r5UoXTZPNdFE"
      },
      "source": [
        "## Addestriamo l'agente e valutiamolo"
      ]
    },
    {
      "cell_type": "code",
      "metadata": {
        "id": "e4cfSXIB-pTF",
        "outputId": "beeeb39f-fbdf-4444-9a41-bcb589aadaf9",
        "colab": {
          "base_uri": "https://localhost:8080/"
        }
      },
      "source": [
        "# Train the agent for 10000 steps\n",
        "model.learn(total_timesteps=10000)"
      ],
      "execution_count": null,
      "outputs": [
        {
          "output_type": "stream",
          "name": "stdout",
          "text": [
            "---------------------------------\n",
            "| rollout/           |          |\n",
            "|    ep_len_mean     | 21.2     |\n",
            "|    ep_rew_mean     | 21.2     |\n",
            "| time/              |          |\n",
            "|    fps             | 835      |\n",
            "|    iterations      | 1        |\n",
            "|    time_elapsed    | 2        |\n",
            "|    total_timesteps | 2048     |\n",
            "---------------------------------\n",
            "-----------------------------------------\n",
            "| rollout/                |             |\n",
            "|    ep_len_mean          | 26.4        |\n",
            "|    ep_rew_mean          | 26.4        |\n",
            "| time/                   |             |\n",
            "|    fps                  | 630         |\n",
            "|    iterations           | 2           |\n",
            "|    time_elapsed         | 6           |\n",
            "|    total_timesteps      | 4096        |\n",
            "| train/                  |             |\n",
            "|    approx_kl            | 0.009202665 |\n",
            "|    clip_fraction        | 0.0957      |\n",
            "|    clip_range           | 0.2         |\n",
            "|    entropy_loss         | -0.686      |\n",
            "|    explained_variance   | -0.00153    |\n",
            "|    learning_rate        | 0.0003      |\n",
            "|    loss                 | 6.77        |\n",
            "|    n_updates            | 10          |\n",
            "|    policy_gradient_loss | -0.0136     |\n",
            "|    value_loss           | 49.6        |\n",
            "-----------------------------------------\n",
            "-----------------------------------------\n",
            "| rollout/                |             |\n",
            "|    ep_len_mean          | 34.8        |\n",
            "|    ep_rew_mean          | 34.8        |\n",
            "| time/                   |             |\n",
            "|    fps                  | 576         |\n",
            "|    iterations           | 3           |\n",
            "|    time_elapsed         | 10          |\n",
            "|    total_timesteps      | 6144        |\n",
            "| train/                  |             |\n",
            "|    approx_kl            | 0.010622828 |\n",
            "|    clip_fraction        | 0.0741      |\n",
            "|    clip_range           | 0.2         |\n",
            "|    entropy_loss         | -0.666      |\n",
            "|    explained_variance   | 0.0984      |\n",
            "|    learning_rate        | 0.0003      |\n",
            "|    loss                 | 12.6        |\n",
            "|    n_updates            | 20          |\n",
            "|    policy_gradient_loss | -0.0208     |\n",
            "|    value_loss           | 38.4        |\n",
            "-----------------------------------------\n",
            "-----------------------------------------\n",
            "| rollout/                |             |\n",
            "|    ep_len_mean          | 46.1        |\n",
            "|    ep_rew_mean          | 46.1        |\n",
            "| time/                   |             |\n",
            "|    fps                  | 553         |\n",
            "|    iterations           | 4           |\n",
            "|    time_elapsed         | 14          |\n",
            "|    total_timesteps      | 8192        |\n",
            "| train/                  |             |\n",
            "|    approx_kl            | 0.006642242 |\n",
            "|    clip_fraction        | 0.078       |\n",
            "|    clip_range           | 0.2         |\n",
            "|    entropy_loss         | -0.63       |\n",
            "|    explained_variance   | 0.236       |\n",
            "|    learning_rate        | 0.0003      |\n",
            "|    loss                 | 22.8        |\n",
            "|    n_updates            | 30          |\n",
            "|    policy_gradient_loss | -0.0172     |\n",
            "|    value_loss           | 54          |\n",
            "-----------------------------------------\n",
            "------------------------------------------\n",
            "| rollout/                |              |\n",
            "|    ep_len_mean          | 62.3         |\n",
            "|    ep_rew_mean          | 62.3         |\n",
            "| time/                   |              |\n",
            "|    fps                  | 537          |\n",
            "|    iterations           | 5            |\n",
            "|    time_elapsed         | 19           |\n",
            "|    total_timesteps      | 10240        |\n",
            "| train/                  |              |\n",
            "|    approx_kl            | 0.0070735863 |\n",
            "|    clip_fraction        | 0.0595       |\n",
            "|    clip_range           | 0.2          |\n",
            "|    entropy_loss         | -0.61        |\n",
            "|    explained_variance   | 0.259        |\n",
            "|    learning_rate        | 0.0003       |\n",
            "|    loss                 | 24           |\n",
            "|    n_updates            | 40           |\n",
            "|    policy_gradient_loss | -0.0186      |\n",
            "|    value_loss           | 67.9         |\n",
            "------------------------------------------\n"
          ]
        },
        {
          "output_type": "execute_result",
          "data": {
            "text/plain": [
              "<stable_baselines3.ppo.ppo.PPO at 0x7f9921fe8590>"
            ]
          },
          "metadata": {},
          "execution_count": 12
        }
      ]
    },
    {
      "cell_type": "code",
      "metadata": {
        "id": "ygl_gVmV_QP7",
        "outputId": "58bc6007-f608-433e-edca-0e4d04645be4",
        "colab": {
          "base_uri": "https://localhost:8080/"
        }
      },
      "source": [
        "# Evaluate the trained agent\n",
        "mean_reward, std_reward = evaluate_policy(model, eval_env, n_eval_episodes=100)\n",
        "\n",
        "print(f\"mean_reward:{mean_reward:.2f} +/- {std_reward:.2f}\")"
      ],
      "execution_count": null,
      "outputs": [
        {
          "output_type": "stream",
          "name": "stdout",
          "text": [
            "mean_reward:415.41 +/- 97.07\n"
          ]
        }
      ]
    },
    {
      "cell_type": "markdown",
      "metadata": {
        "id": "A00W6yY3NkHG"
      },
      "source": [
        "A quanto pare l'allenamento è andato bene, la ricompensa media è aumentata molto!\n"
      ]
    },
    {
      "cell_type": "markdown",
      "metadata": {
        "id": "xVm9QPNVwKXN"
      },
      "source": [
        "### Fun Moment: video delle prestazioni dell'agente :)\n",
        "\n",
        "Adesso proviamo a comprendere quello che riesce a fare il nostro modello preparando una registrazione!\n",
        "\n"
      ]
    },
    {
      "cell_type": "code",
      "metadata": {
        "id": "MPyfQxD5z26J"
      },
      "source": [
        "# Set up fake display; otherwise rendering will fail\n",
        "import os\n",
        "os.system(\"Xvfb :1 -screen 0 1024x768x24 &\")\n",
        "os.environ['DISPLAY'] = ':1'"
      ],
      "execution_count": null,
      "outputs": []
    },
    {
      "cell_type": "code",
      "metadata": {
        "id": "SLzXxO8VMD6N"
      },
      "source": [
        "import base64\n",
        "from pathlib import Path\n",
        "\n",
        "from IPython import display as ipythondisplay\n",
        "\n",
        "def show_videos(video_path='', prefix=''):\n",
        "  \"\"\"\n",
        "  Taken from https://github.com/eleurent/highway-env\n",
        "\n",
        "  :param video_path: (str) Path to the folder containing videos\n",
        "  :param prefix: (str) Filter the video, showing only the only starting with this prefix\n",
        "  \"\"\"\n",
        "  html = []\n",
        "  for mp4 in Path(video_path).glob(\"{}*.mp4\".format(prefix)):\n",
        "      video_b64 = base64.b64encode(mp4.read_bytes())\n",
        "      html.append('''<video alt=\"{}\" autoplay \n",
        "                    loop controls style=\"height: 400px;\">\n",
        "                    <source src=\"data:video/mp4;base64,{}\" type=\"video/mp4\" />\n",
        "                </video>'''.format(mp4, video_b64.decode('ascii')))\n",
        "  ipythondisplay.display(ipythondisplay.HTML(data=\"<br>\".join(html)))"
      ],
      "execution_count": null,
      "outputs": []
    },
    {
      "cell_type": "markdown",
      "metadata": {
        "id": "LTRNUfulOGaF"
      },
      "source": [
        "Registreremo un video usando  [VecVideoRecorder](https://stable-baselines.readthedocs.io/en/master/guide/vec_envs.html#vecvideorecorder)."
      ]
    },
    {
      "cell_type": "code",
      "metadata": {
        "id": "Trag9dQpOIhx"
      },
      "source": [
        "from stable_baselines3.common.vec_env import VecVideoRecorder, DummyVecEnv\n",
        "\n",
        "def record_video(env_id, model, video_length=500, prefix='', video_folder='videos/'):\n",
        "  \"\"\"\n",
        "  :param env_id: (str)\n",
        "  :param model: (RL model)\n",
        "  :param video_length: (int)\n",
        "  :param prefix: (str)\n",
        "  :param video_folder: (str)\n",
        "  \"\"\"\n",
        "  eval_env = DummyVecEnv([lambda: gym.make('CartPole-v1')])\n",
        "  # Start the video at step=0 and record 500 steps\n",
        "  eval_env = VecVideoRecorder(eval_env, video_folder=video_folder,\n",
        "                              record_video_trigger=lambda step: step == 0, video_length=video_length,\n",
        "                              name_prefix=prefix)\n",
        "\n",
        "  obs = eval_env.reset()\n",
        "  for _ in range(video_length):\n",
        "    action, _ = model.predict(obs)\n",
        "    obs, _, _, _ = eval_env.step(action)\n",
        "\n",
        "  # Close the video recorder\n",
        "  eval_env.close()"
      ],
      "execution_count": null,
      "outputs": []
    },
    {
      "cell_type": "code",
      "metadata": {
        "id": "iATu7AiyMQW2",
        "outputId": "2d89e131-a0ca-41a8-ccaf-5b25f17a6fed",
        "colab": {
          "base_uri": "https://localhost:8080/"
        }
      },
      "source": [
        "record_video('CartPole-v1', model, video_length=500, prefix='ppo2-cartpole')"
      ],
      "execution_count": null,
      "outputs": [
        {
          "output_type": "stream",
          "name": "stdout",
          "text": [
            "Saving video to /content/videos/ppo2-cartpole-step-0-to-step-500.mp4\n"
          ]
        }
      ]
    },
    {
      "cell_type": "markdown",
      "source": [
        "Vediamolo!"
      ],
      "metadata": {
        "id": "fRNwmTKEPnnH"
      }
    },
    {
      "cell_type": "code",
      "metadata": {
        "id": "-n4i-fW3NojZ",
        "outputId": "67d4f616-f992-4eca-9c46-5c81a4656c6e",
        "colab": {
          "base_uri": "https://localhost:8080/",
          "height": 422
        }
      },
      "source": [
        "show_videos('videos', prefix='ppo2')"
      ],
      "execution_count": null,
      "outputs": [
        {
          "output_type": "display_data",
          "data": {
            "text/plain": [
              "<IPython.core.display.HTML object>"
            ],
            "text/html": [
              "<video alt=\"videos/ppo2-cartpole-step-0-to-step-500.mp4\" autoplay \n",
              "                    loop controls style=\"height: 400px;\">\n",
              "                    <source src=\"data:video/mp4;base64,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\" type=\"video/mp4\" />\n",
              "                </video>"
            ]
          },
          "metadata": {}
        }
      ]
    },
    {
      "cell_type": "markdown",
      "source": [
        "In questo modo abbiamo visto in azione il nostro agente su un ambiente simulato che risolve un problema di controllo 'CartPole'. "
      ],
      "metadata": {
        "id": "8nAqz5EhPqgG"
      }
    },
    {
      "cell_type": "markdown",
      "metadata": {
        "id": "9Y8zg4V566qD"
      },
      "source": [
        "### Bonus: Addestra un modello RL in una riga\n",
        "\n",
        "Ora che abbiamo capito come si opera per un generico problema di RL usando strategie di Deep RL siamo pronti a scoprire che...\n",
        "\n",
        "Stable Baseline ci consente di ridurre il codice da creare per eseguire questi passaggi in una riga!"
      ]
    },
    {
      "cell_type": "code",
      "metadata": {
        "id": "iaOPfOrwWEP4"
      },
      "source": [
        "model = PPO('MlpPolicy', \"CartPole-v1\", verbose=1).learn(1000)"
      ],
      "execution_count": null,
      "outputs": []
    },
    {
      "cell_type": "markdown",
      "metadata": {
        "id": "WBf84jU05mgi"
      },
      "source": [
        "## Addestriamo un altro agente: DQN\n",
        "\n",
        "Nell'esempio precedente, abbiamo utilizzato PPO, uno dei tanti algoritmi forniti da stable-baselines.\n",
        "\n",
        "Adesso operiamo con un altro algoritmo [Deep Q-Network agent (DQN)](https://stable-baselines.readthedocs.io/en/master/modules/dqn.html), e proviamo a vedere i possibili miglioramenti forniti dalle sue estensioni (Double-DQN, Dueling-DQN, Prioritized Experience Replay).\n",
        "\n",
        "Il punto essenziale di questa sezione è mostrare quanto sia semplice modificare gli iperparametri delle strategie RL.\n",
        "\n",
        "Il vantaggio principale di stable-baselines è che fornisce un'interfaccia comune per utilizzare gli algoritmi RL, quindi il codice sarà abbastanza simile."
      ]
    },
    {
      "cell_type": "code",
      "metadata": {
        "id": "tdLdYABz8TJx",
        "colab": {
          "base_uri": "https://localhost:8080/"
        },
        "outputId": "1c86e4d4-87e8-49a4-a946-10e786e27ac4"
      },
      "source": [
        "# Same as before we instantiate the agent along with the environment\n",
        "from stable_baselines3 import DQN\n",
        "\n",
        "# Note that the MlpPolicy of DQN is different from the one of PPO\n",
        "# but stable-baselines handles that automatically if you pass a string\n",
        "dqn_model = DQN('MlpPolicy', 'CartPole-v1', verbose=1)"
      ],
      "execution_count": null,
      "outputs": [
        {
          "output_type": "stream",
          "name": "stdout",
          "text": [
            "Using cuda device\n",
            "Creating environment from the given name 'CartPole-v1'\n",
            "Wrapping the env with a `Monitor` wrapper\n",
            "Wrapping the env in a DummyVecEnv.\n"
          ]
        }
      ]
    },
    {
      "cell_type": "code",
      "metadata": {
        "id": "E4A_IOZ_9fzW",
        "outputId": "ed0df172-af86-489e-d0c8-674305d99081",
        "colab": {
          "base_uri": "https://localhost:8080/"
        }
      },
      "source": [
        "# Random Agent, before training\n",
        "mean_reward_before_train = evaluate(dqn_model, num_episodes=100)"
      ],
      "execution_count": null,
      "outputs": [
        {
          "output_type": "stream",
          "name": "stdout",
          "text": [
            "Mean reward: 9.26 Num episodes: 100\n"
          ]
        }
      ]
    },
    {
      "cell_type": "code",
      "metadata": {
        "id": "4wbuvAKk9spH",
        "colab": {
          "base_uri": "https://localhost:8080/"
        },
        "outputId": "1faf1116-cb1d-4d93-e466-5e9ab14d8eac"
      },
      "source": [
        "# Train the agent for 10000 steps\n",
        "dqn_model.learn(total_timesteps=10000, log_interval=10)"
      ],
      "execution_count": null,
      "outputs": [
        {
          "output_type": "stream",
          "name": "stdout",
          "text": [
            "----------------------------------\n",
            "| rollout/            |          |\n",
            "|    ep_len_mean      | 22.4     |\n",
            "|    ep_rew_mean      | 22.4     |\n",
            "|    exploration_rate | 0.787    |\n",
            "| time/               |          |\n",
            "|    episodes         | 10       |\n",
            "|    fps              | 7438     |\n",
            "|    time_elapsed     | 0        |\n",
            "|    total_timesteps  | 224      |\n",
            "----------------------------------\n",
            "----------------------------------\n",
            "| rollout/            |          |\n",
            "|    ep_len_mean      | 22.2     |\n",
            "|    ep_rew_mean      | 22.2     |\n",
            "|    exploration_rate | 0.578    |\n",
            "| time/               |          |\n",
            "|    episodes         | 20       |\n",
            "|    fps              | 7618     |\n",
            "|    time_elapsed     | 0        |\n",
            "|    total_timesteps  | 444      |\n",
            "----------------------------------\n",
            "----------------------------------\n",
            "| rollout/            |          |\n",
            "|    ep_len_mean      | 24       |\n",
            "|    ep_rew_mean      | 24       |\n",
            "|    exploration_rate | 0.317    |\n",
            "| time/               |          |\n",
            "|    episodes         | 30       |\n",
            "|    fps              | 7804     |\n",
            "|    time_elapsed     | 0        |\n",
            "|    total_timesteps  | 719      |\n",
            "----------------------------------\n",
            "----------------------------------\n",
            "| rollout/            |          |\n",
            "|    ep_len_mean      | 22.6     |\n",
            "|    ep_rew_mean      | 22.6     |\n",
            "|    exploration_rate | 0.143    |\n",
            "| time/               |          |\n",
            "|    episodes         | 40       |\n",
            "|    fps              | 7677     |\n",
            "|    time_elapsed     | 0        |\n",
            "|    total_timesteps  | 902      |\n",
            "----------------------------------\n",
            "----------------------------------\n",
            "| rollout/            |          |\n",
            "|    ep_len_mean      | 22.9     |\n",
            "|    ep_rew_mean      | 22.9     |\n",
            "|    exploration_rate | 0.05     |\n",
            "| time/               |          |\n",
            "|    episodes         | 50       |\n",
            "|    fps              | 7786     |\n",
            "|    time_elapsed     | 0        |\n",
            "|    total_timesteps  | 1143     |\n",
            "----------------------------------\n",
            "----------------------------------\n",
            "| rollout/            |          |\n",
            "|    ep_len_mean      | 22.3     |\n",
            "|    ep_rew_mean      | 22.3     |\n",
            "|    exploration_rate | 0.05     |\n",
            "| time/               |          |\n",
            "|    episodes         | 60       |\n",
            "|    fps              | 7804     |\n",
            "|    time_elapsed     | 0        |\n",
            "|    total_timesteps  | 1340     |\n",
            "----------------------------------\n",
            "----------------------------------\n",
            "| rollout/            |          |\n",
            "|    ep_len_mean      | 21.9     |\n",
            "|    ep_rew_mean      | 21.9     |\n",
            "|    exploration_rate | 0.05     |\n",
            "| time/               |          |\n",
            "|    episodes         | 70       |\n",
            "|    fps              | 7491     |\n",
            "|    time_elapsed     | 0        |\n",
            "|    total_timesteps  | 1532     |\n",
            "----------------------------------\n",
            "----------------------------------\n",
            "| rollout/            |          |\n",
            "|    ep_len_mean      | 22.6     |\n",
            "|    ep_rew_mean      | 22.6     |\n",
            "|    exploration_rate | 0.05     |\n",
            "| time/               |          |\n",
            "|    episodes         | 80       |\n",
            "|    fps              | 7529     |\n",
            "|    time_elapsed     | 0        |\n",
            "|    total_timesteps  | 1811     |\n",
            "----------------------------------\n",
            "----------------------------------\n",
            "| rollout/            |          |\n",
            "|    ep_len_mean      | 22.3     |\n",
            "|    ep_rew_mean      | 22.3     |\n",
            "|    exploration_rate | 0.05     |\n",
            "| time/               |          |\n",
            "|    episodes         | 90       |\n",
            "|    fps              | 7526     |\n",
            "|    time_elapsed     | 0        |\n",
            "|    total_timesteps  | 2004     |\n",
            "----------------------------------\n",
            "----------------------------------\n",
            "| rollout/            |          |\n",
            "|    ep_len_mean      | 22.4     |\n",
            "|    ep_rew_mean      | 22.4     |\n",
            "|    exploration_rate | 0.05     |\n",
            "| time/               |          |\n",
            "|    episodes         | 100      |\n",
            "|    fps              | 7584     |\n",
            "|    time_elapsed     | 0        |\n",
            "|    total_timesteps  | 2237     |\n",
            "----------------------------------\n",
            "----------------------------------\n",
            "| rollout/            |          |\n",
            "|    ep_len_mean      | 22.9     |\n",
            "|    ep_rew_mean      | 22.9     |\n",
            "|    exploration_rate | 0.05     |\n",
            "| time/               |          |\n",
            "|    episodes         | 110      |\n",
            "|    fps              | 7646     |\n",
            "|    time_elapsed     | 0        |\n",
            "|    total_timesteps  | 2512     |\n",
            "----------------------------------\n",
            "----------------------------------\n",
            "| rollout/            |          |\n",
            "|    ep_len_mean      | 22.6     |\n",
            "|    ep_rew_mean      | 22.6     |\n",
            "|    exploration_rate | 0.05     |\n",
            "| time/               |          |\n",
            "|    episodes         | 120      |\n",
            "|    fps              | 7644     |\n",
            "|    time_elapsed     | 0        |\n",
            "|    total_timesteps  | 2704     |\n",
            "----------------------------------\n",
            "----------------------------------\n",
            "| rollout/            |          |\n",
            "|    ep_len_mean      | 22.1     |\n",
            "|    ep_rew_mean      | 22.1     |\n",
            "|    exploration_rate | 0.05     |\n",
            "| time/               |          |\n",
            "|    episodes         | 130      |\n",
            "|    fps              | 7666     |\n",
            "|    time_elapsed     | 0        |\n",
            "|    total_timesteps  | 2931     |\n",
            "----------------------------------\n",
            "----------------------------------\n",
            "| rollout/            |          |\n",
            "|    ep_len_mean      | 22.7     |\n",
            "|    ep_rew_mean      | 22.7     |\n",
            "|    exploration_rate | 0.05     |\n",
            "| time/               |          |\n",
            "|    episodes         | 140      |\n",
            "|    fps              | 7691     |\n",
            "|    time_elapsed     | 0        |\n",
            "|    total_timesteps  | 3176     |\n",
            "----------------------------------\n",
            "----------------------------------\n",
            "| rollout/            |          |\n",
            "|    ep_len_mean      | 22.9     |\n",
            "|    ep_rew_mean      | 22.9     |\n",
            "|    exploration_rate | 0.05     |\n",
            "| time/               |          |\n",
            "|    episodes         | 150      |\n",
            "|    fps              | 7720     |\n",
            "|    time_elapsed     | 0        |\n",
            "|    total_timesteps  | 3435     |\n",
            "----------------------------------\n",
            "----------------------------------\n",
            "| rollout/            |          |\n",
            "|    ep_len_mean      | 22.8     |\n",
            "|    ep_rew_mean      | 22.8     |\n",
            "|    exploration_rate | 0.05     |\n",
            "| time/               |          |\n",
            "|    episodes         | 160      |\n",
            "|    fps              | 7669     |\n",
            "|    time_elapsed     | 0        |\n",
            "|    total_timesteps  | 3622     |\n",
            "----------------------------------\n",
            "----------------------------------\n",
            "| rollout/            |          |\n",
            "|    ep_len_mean      | 22.3     |\n",
            "|    ep_rew_mean      | 22.3     |\n",
            "|    exploration_rate | 0.05     |\n",
            "| time/               |          |\n",
            "|    episodes         | 170      |\n",
            "|    fps              | 7651     |\n",
            "|    time_elapsed     | 0        |\n",
            "|    total_timesteps  | 3762     |\n",
            "----------------------------------\n",
            "----------------------------------\n",
            "| rollout/            |          |\n",
            "|    ep_len_mean      | 21.7     |\n",
            "|    ep_rew_mean      | 21.7     |\n",
            "|    exploration_rate | 0.05     |\n",
            "| time/               |          |\n",
            "|    episodes         | 180      |\n",
            "|    fps              | 7503     |\n",
            "|    time_elapsed     | 0        |\n",
            "|    total_timesteps  | 3982     |\n",
            "----------------------------------\n",
            "----------------------------------\n",
            "| rollout/            |          |\n",
            "|    ep_len_mean      | 22.5     |\n",
            "|    ep_rew_mean      | 22.5     |\n",
            "|    exploration_rate | 0.05     |\n",
            "| time/               |          |\n",
            "|    episodes         | 190      |\n",
            "|    fps              | 7501     |\n",
            "|    time_elapsed     | 0        |\n",
            "|    total_timesteps  | 4258     |\n",
            "----------------------------------\n",
            "----------------------------------\n",
            "| rollout/            |          |\n",
            "|    ep_len_mean      | 22.2     |\n",
            "|    ep_rew_mean      | 22.2     |\n",
            "|    exploration_rate | 0.05     |\n",
            "| time/               |          |\n",
            "|    episodes         | 200      |\n",
            "|    fps              | 7508     |\n",
            "|    time_elapsed     | 0        |\n",
            "|    total_timesteps  | 4459     |\n",
            "----------------------------------\n",
            "----------------------------------\n",
            "| rollout/            |          |\n",
            "|    ep_len_mean      | 21.1     |\n",
            "|    ep_rew_mean      | 21.1     |\n",
            "|    exploration_rate | 0.05     |\n",
            "| time/               |          |\n",
            "|    episodes         | 210      |\n",
            "|    fps              | 7499     |\n",
            "|    time_elapsed     | 0        |\n",
            "|    total_timesteps  | 4625     |\n",
            "----------------------------------\n",
            "----------------------------------\n",
            "| rollout/            |          |\n",
            "|    ep_len_mean      | 21.1     |\n",
            "|    ep_rew_mean      | 21.1     |\n",
            "|    exploration_rate | 0.05     |\n",
            "| time/               |          |\n",
            "|    episodes         | 220      |\n",
            "|    fps              | 7504     |\n",
            "|    time_elapsed     | 0        |\n",
            "|    total_timesteps  | 4813     |\n",
            "----------------------------------\n",
            "----------------------------------\n",
            "| rollout/            |          |\n",
            "|    ep_len_mean      | 20.7     |\n",
            "|    ep_rew_mean      | 20.7     |\n",
            "|    exploration_rate | 0.05     |\n",
            "| time/               |          |\n",
            "|    episodes         | 230      |\n",
            "|    fps              | 7503     |\n",
            "|    time_elapsed     | 0        |\n",
            "|    total_timesteps  | 5002     |\n",
            "----------------------------------\n",
            "----------------------------------\n",
            "| rollout/            |          |\n",
            "|    ep_len_mean      | 20.8     |\n",
            "|    ep_rew_mean      | 20.8     |\n",
            "|    exploration_rate | 0.05     |\n",
            "| time/               |          |\n",
            "|    episodes         | 240      |\n",
            "|    fps              | 7533     |\n",
            "|    time_elapsed     | 0        |\n",
            "|    total_timesteps  | 5259     |\n",
            "----------------------------------\n",
            "----------------------------------\n",
            "| rollout/            |          |\n",
            "|    ep_len_mean      | 21       |\n",
            "|    ep_rew_mean      | 21       |\n",
            "|    exploration_rate | 0.05     |\n",
            "| time/               |          |\n",
            "|    episodes         | 250      |\n",
            "|    fps              | 7577     |\n",
            "|    time_elapsed     | 0        |\n",
            "|    total_timesteps  | 5537     |\n",
            "----------------------------------\n",
            "----------------------------------\n",
            "| rollout/            |          |\n",
            "|    ep_len_mean      | 21.4     |\n",
            "|    ep_rew_mean      | 21.4     |\n",
            "|    exploration_rate | 0.05     |\n",
            "| time/               |          |\n",
            "|    episodes         | 260      |\n",
            "|    fps              | 7605     |\n",
            "|    time_elapsed     | 0        |\n",
            "|    total_timesteps  | 5766     |\n",
            "----------------------------------\n",
            "----------------------------------\n",
            "| rollout/            |          |\n",
            "|    ep_len_mean      | 22       |\n",
            "|    ep_rew_mean      | 22       |\n",
            "|    exploration_rate | 0.05     |\n",
            "| time/               |          |\n",
            "|    episodes         | 270      |\n",
            "|    fps              | 7514     |\n",
            "|    time_elapsed     | 0        |\n",
            "|    total_timesteps  | 5958     |\n",
            "----------------------------------\n",
            "----------------------------------\n",
            "| rollout/            |          |\n",
            "|    ep_len_mean      | 21.1     |\n",
            "|    ep_rew_mean      | 21.1     |\n",
            "|    exploration_rate | 0.05     |\n",
            "| time/               |          |\n",
            "|    episodes         | 280      |\n",
            "|    fps              | 7509     |\n",
            "|    time_elapsed     | 0        |\n",
            "|    total_timesteps  | 6097     |\n",
            "----------------------------------\n",
            "----------------------------------\n",
            "| rollout/            |          |\n",
            "|    ep_len_mean      | 20.5     |\n",
            "|    ep_rew_mean      | 20.5     |\n",
            "|    exploration_rate | 0.05     |\n",
            "| time/               |          |\n",
            "|    episodes         | 290      |\n",
            "|    fps              | 7501     |\n",
            "|    time_elapsed     | 0        |\n",
            "|    total_timesteps  | 6304     |\n",
            "----------------------------------\n",
            "----------------------------------\n",
            "| rollout/            |          |\n",
            "|    ep_len_mean      | 20.5     |\n",
            "|    ep_rew_mean      | 20.5     |\n",
            "|    exploration_rate | 0.05     |\n",
            "| time/               |          |\n",
            "|    episodes         | 300      |\n",
            "|    fps              | 7513     |\n",
            "|    time_elapsed     | 0        |\n",
            "|    total_timesteps  | 6508     |\n",
            "----------------------------------\n",
            "----------------------------------\n",
            "| rollout/            |          |\n",
            "|    ep_len_mean      | 21.4     |\n",
            "|    ep_rew_mean      | 21.4     |\n",
            "|    exploration_rate | 0.05     |\n",
            "| time/               |          |\n",
            "|    episodes         | 310      |\n",
            "|    fps              | 7538     |\n",
            "|    time_elapsed     | 0        |\n",
            "|    total_timesteps  | 6760     |\n",
            "----------------------------------\n",
            "----------------------------------\n",
            "| rollout/            |          |\n",
            "|    ep_len_mean      | 21.9     |\n",
            "|    ep_rew_mean      | 21.9     |\n",
            "|    exploration_rate | 0.05     |\n",
            "| time/               |          |\n",
            "|    episodes         | 320      |\n",
            "|    fps              | 7564     |\n",
            "|    time_elapsed     | 0        |\n",
            "|    total_timesteps  | 7006     |\n",
            "----------------------------------\n",
            "----------------------------------\n",
            "| rollout/            |          |\n",
            "|    ep_len_mean      | 21.8     |\n",
            "|    ep_rew_mean      | 21.8     |\n",
            "|    exploration_rate | 0.05     |\n",
            "| time/               |          |\n",
            "|    episodes         | 330      |\n",
            "|    fps              | 7561     |\n",
            "|    time_elapsed     | 0        |\n",
            "|    total_timesteps  | 7180     |\n",
            "----------------------------------\n",
            "----------------------------------\n",
            "| rollout/            |          |\n",
            "|    ep_len_mean      | 21       |\n",
            "|    ep_rew_mean      | 21       |\n",
            "|    exploration_rate | 0.05     |\n",
            "| time/               |          |\n",
            "|    episodes         | 340      |\n",
            "|    fps              | 7553     |\n",
            "|    time_elapsed     | 0        |\n",
            "|    total_timesteps  | 7363     |\n",
            "----------------------------------\n",
            "----------------------------------\n",
            "| rollout/            |          |\n",
            "|    ep_len_mean      | 21.2     |\n",
            "|    ep_rew_mean      | 21.2     |\n",
            "|    exploration_rate | 0.05     |\n",
            "| time/               |          |\n",
            "|    episodes         | 350      |\n",
            "|    fps              | 7590     |\n",
            "|    time_elapsed     | 1        |\n",
            "|    total_timesteps  | 7661     |\n",
            "----------------------------------\n",
            "----------------------------------\n",
            "| rollout/            |          |\n",
            "|    ep_len_mean      | 20.7     |\n",
            "|    ep_rew_mean      | 20.7     |\n",
            "|    exploration_rate | 0.05     |\n",
            "| time/               |          |\n",
            "|    episodes         | 360      |\n",
            "|    fps              | 7587     |\n",
            "|    time_elapsed     | 1        |\n",
            "|    total_timesteps  | 7837     |\n",
            "----------------------------------\n",
            "----------------------------------\n",
            "| rollout/            |          |\n",
            "|    ep_len_mean      | 22       |\n",
            "|    ep_rew_mean      | 22       |\n",
            "|    exploration_rate | 0.05     |\n",
            "| time/               |          |\n",
            "|    episodes         | 370      |\n",
            "|    fps              | 7621     |\n",
            "|    time_elapsed     | 1        |\n",
            "|    total_timesteps  | 8154     |\n",
            "----------------------------------\n",
            "----------------------------------\n",
            "| rollout/            |          |\n",
            "|    ep_len_mean      | 23.2     |\n",
            "|    ep_rew_mean      | 23.2     |\n",
            "|    exploration_rate | 0.05     |\n",
            "| time/               |          |\n",
            "|    episodes         | 380      |\n",
            "|    fps              | 7608     |\n",
            "|    time_elapsed     | 1        |\n",
            "|    total_timesteps  | 8418     |\n",
            "----------------------------------\n",
            "----------------------------------\n",
            "| rollout/            |          |\n",
            "|    ep_len_mean      | 24       |\n",
            "|    ep_rew_mean      | 24       |\n",
            "|    exploration_rate | 0.05     |\n",
            "| time/               |          |\n",
            "|    episodes         | 390      |\n",
            "|    fps              | 7628     |\n",
            "|    time_elapsed     | 1        |\n",
            "|    total_timesteps  | 8704     |\n",
            "----------------------------------\n",
            "----------------------------------\n",
            "| rollout/            |          |\n",
            "|    ep_len_mean      | 23.8     |\n",
            "|    ep_rew_mean      | 23.8     |\n",
            "|    exploration_rate | 0.05     |\n",
            "| time/               |          |\n",
            "|    episodes         | 400      |\n",
            "|    fps              | 7627     |\n",
            "|    time_elapsed     | 1        |\n",
            "|    total_timesteps  | 8886     |\n",
            "----------------------------------\n",
            "----------------------------------\n",
            "| rollout/            |          |\n",
            "|    ep_len_mean      | 24.2     |\n",
            "|    ep_rew_mean      | 24.2     |\n",
            "|    exploration_rate | 0.05     |\n",
            "| time/               |          |\n",
            "|    episodes         | 410      |\n",
            "|    fps              | 7658     |\n",
            "|    time_elapsed     | 1        |\n",
            "|    total_timesteps  | 9183     |\n",
            "----------------------------------\n",
            "----------------------------------\n",
            "| rollout/            |          |\n",
            "|    ep_len_mean      | 24.2     |\n",
            "|    ep_rew_mean      | 24.2     |\n",
            "|    exploration_rate | 0.05     |\n",
            "| time/               |          |\n",
            "|    episodes         | 420      |\n",
            "|    fps              | 7667     |\n",
            "|    time_elapsed     | 1        |\n",
            "|    total_timesteps  | 9423     |\n",
            "----------------------------------\n",
            "----------------------------------\n",
            "| rollout/            |          |\n",
            "|    ep_len_mean      | 24.6     |\n",
            "|    ep_rew_mean      | 24.6     |\n",
            "|    exploration_rate | 0.05     |\n",
            "| time/               |          |\n",
            "|    episodes         | 430      |\n",
            "|    fps              | 7680     |\n",
            "|    time_elapsed     | 1        |\n",
            "|    total_timesteps  | 9643     |\n",
            "----------------------------------\n",
            "----------------------------------\n",
            "| rollout/            |          |\n",
            "|    ep_len_mean      | 25.3     |\n",
            "|    ep_rew_mean      | 25.3     |\n",
            "|    exploration_rate | 0.05     |\n",
            "| time/               |          |\n",
            "|    episodes         | 440      |\n",
            "|    fps              | 7664     |\n",
            "|    time_elapsed     | 1        |\n",
            "|    total_timesteps  | 9895     |\n",
            "----------------------------------\n"
          ]
        },
        {
          "output_type": "execute_result",
          "data": {
            "text/plain": [
              "<stable_baselines3.dqn.dqn.DQN at 0x7f98d0230fd0>"
            ]
          },
          "metadata": {},
          "execution_count": 25
        }
      ]
    },
    {
      "cell_type": "code",
      "metadata": {
        "id": "QDQTdpYv9xJN",
        "outputId": "ac1854e5-1979-43a7-e1b9-c0d5e2b9c6c0",
        "colab": {
          "base_uri": "https://localhost:8080/"
        }
      },
      "source": [
        "# Evaluate the trained agent\n",
        "mean_reward = evaluate(dqn_model, num_episodes=100)"
      ],
      "execution_count": null,
      "outputs": [
        {
          "output_type": "stream",
          "name": "stdout",
          "text": [
            "Mean reward: 9.73 Num episodes: 100\n"
          ]
        }
      ]
    },
    {
      "cell_type": "markdown",
      "metadata": {
        "id": "n4Q9dR3UC5Zb"
      },
      "source": [
        "## Esercizi\n",
        "\n",
        "Sperimentare sullo stesso task ed ambiente altre strategie di Deep RL usando lo Zoo:  https://stable-baselines3.readthedocs.io/en/master/guide/algos.html"
      ]
    },
    {
      "cell_type": "code",
      "source": [
        "#TODO"
      ],
      "metadata": {
        "id": "5UibRYDUUEOT"
      },
      "execution_count": null,
      "outputs": []
    },
    {
      "cell_type": "markdown",
      "source": [
        "## Your Turn!\n",
        "\n",
        "Sperimentare \n",
        "- Usando i diversi ambienti forniti su OpenAI Gym\n",
        "- Utilizzare diversi agenti Deep RL per diversi problemi \n",
        "\n",
        "**NOTA**: non tutti possono essere applicati!"
      ],
      "metadata": {
        "id": "Q01LXi3TxoWW"
      }
    },
    {
      "cell_type": "code",
      "metadata": {
        "id": "73ji3gbNDkf7"
      },
      "source": [
        "#TODO"
      ],
      "execution_count": null,
      "outputs": []
    },
    {
      "cell_type": "markdown",
      "source": [
        "# Materiale Aggiuntivo\n",
        "\n",
        "### Stable Baseline\n",
        "Slides: https://araffin.github.io/slides/rl-tuto-jnrr19/#/ \n",
        "\n",
        "Github repo: https://github.com/araffin/rl-tutorial-jnrr19\n",
        "\n",
        "Stable-Baselines: https://github.com/hill-a/stable-baselines\n",
        "\n",
        "Documentation: https://stable-baselines.readthedocs.io/en/master/\n",
        "\n",
        "Tutorials: https://stable-baselines.readthedocs.io/en/master/guide/examples.html\n",
        "\n",
        "RL Baselines zoo: https://github.com/araffin/rl-baselines-zoo (raccolta di agenti di apprendimento per rinforzo pre-addestrati che utilizzano Stable-Baselines)\n",
        "\n",
        "Medium article: [https://medium.com/@araffin/stable-baselines-a-fork-of-openai-baselines-df87c4b2fc82](https://medium.com/@araffin/stable-baselines-a-fork-of-openai-baselines-df87c4b2fc82)\n",
        "\n",
        "### DQN & Famiy\n",
        "DQN paper: https://arxiv.org/abs/1312.5602\n",
        "\n",
        "Dueling DQN: https://arxiv.org/abs/1511.06581\n",
        "\n",
        "Double-Q Learning: https://arxiv.org/abs/1509.06461\n",
        "\n",
        "Prioritized Experience Replay: https://arxiv.org/abs/1511.05952\n"
      ],
      "metadata": {
        "id": "c1lNwKznxKi1"
      }
    }
  ]
}